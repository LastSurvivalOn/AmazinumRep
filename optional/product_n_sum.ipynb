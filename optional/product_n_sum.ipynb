{
 "cells": [
  {
   "cell_type": "markdown",
   "metadata": {},
   "source": [
    "## Task about sum and product \n",
    "\n",
    "Note: This is optional task. \n",
    "However it is also evaluated and so you will get extra points to final score. \n",
    "Thus, we encourage you to solve it. "
   ]
  },
  {
   "cell_type": "markdown",
   "metadata": {},
   "source": [
    "```\n",
    "There are two whole numbers:\n",
    "1 < a,b <100\n",
    "\n",
    "One scientist(\"Sum\") get provided with sum of numbers,\n",
    "another  (\"Prod\") get provided with product of numbers. \n",
    "Both scientists know that numbers 1 < a,b <100.\n",
    "\n",
    "Determine the numbers being based on the following dialog: \n",
    "    Prod: I don't know the numbers;\n",
    "    Sum: I know it;\n",
    "    Prod: then I know the numbers; \n",
    "    Sum: then I know the numbers too.\n",
    "```"
   ]
  },
  {
   "cell_type": "markdown",
   "metadata": {},
   "source": [
    "    Prod: I don't know the numbers;"
   ]
  },
  {
   "cell_type": "markdown",
   "metadata": {},
   "source": [
    "So the product doesnt consist of 2 simple numbers, because the product of two simple numbers is unique number, which can be created by multiplying 2 simple numbers or one unique pair of numbers"
   ]
  },
  {
   "cell_type": "code",
   "execution_count": 531,
   "metadata": {},
   "outputs": [
    {
     "name": "stdout",
     "output_type": "stream",
     "text": [
      "12 - {(2, 6), (3, 4)}\n",
      "18 - {(2, 9), (3, 6)}\n",
      "20 - {(4, 5), (2, 10)}\n",
      "24 - {(3, 8), (4, 6), (2, 12)}\n",
      "28 - {(2, 14), (4, 7)}\n",
      "30 - {(2, 15), (5, 6), (3, 10)}\n",
      "32 - {(2, 16), (4, 8)}\n",
      "36 - {(3, 12), (4, 9), (2, 18)}\n",
      "40 - {(2, 20), (4, 10), (5, 8)}\n",
      "42 - {(6, 7), (2, 21), (3, 14)}\n",
      "44 - {(4, 11), (2, 22)}\n",
      "45 - {(5, 9), (3, 15)}\n",
      "48 - {(6, 8), (4, 12), (2, 24), (3, 16)}\n",
      "50 - {(5, 10), (2, 25)}\n",
      "52 - {(2, 26), (4, 13)}\n",
      "54 - {(3, 18), (2, 27), (6, 9)}\n",
      "56 - {(2, 28), (7, 8), (4, 14)}\n",
      "60 - {(3, 20), (4, 15), (6, 10), (5, 12), (2, 30)}\n",
      "63 - {(7, 9), (3, 21)}\n",
      "64 - {(2, 32), (4, 16)}\n",
      "66 - {(2, 33), (3, 22), (6, 11)}\n",
      "68 - {(4, 17), (2, 34)}\n",
      "70 - {(5, 14), (7, 10), (2, 35)}\n",
      "72 - {(6, 12), (3, 24), (2, 36), (8, 9), (4, 18)}\n",
      "75 - {(5, 15), (3, 25)}\n",
      "76 - {(2, 38), (4, 19)}\n",
      "78 - {(6, 13), (2, 39), (3, 26)}\n",
      "80 - {(5, 16), (8, 10), (2, 40), (4, 20)}\n",
      "84 - {(2, 42), (6, 14), (4, 21), (7, 12), (3, 28)}\n",
      "88 - {(2, 44), (4, 22), (8, 11)}\n",
      "90 - {(9, 10), (3, 30), (6, 15), (2, 45), (5, 18)}\n",
      "92 - {(4, 23), (2, 46)}\n",
      "96 - {(2, 48), (3, 32), (4, 24), (6, 16), (8, 12)}\n",
      "98 - {(2, 49), (7, 14)}\n",
      "99 - {(9, 11), (3, 33)}\n",
      "100 - {(5, 20), (2, 50), (4, 25)}\n",
      "102 - {(2, 51), (6, 17), (3, 34)}\n",
      "104 - {(4, 26), (8, 13), (2, 52)}\n",
      "105 - {(7, 15), (3, 35), (5, 21)}\n",
      "108 - {(6, 18), (3, 36), (9, 12), (2, 54), (4, 27)}\n",
      "110 - {(2, 55), (5, 22), (10, 11)}\n",
      "112 - {(8, 14), (7, 16), (4, 28), (2, 56)}\n",
      "114 - {(3, 38), (6, 19), (2, 57)}\n",
      "116 - {(4, 29), (2, 58)}\n",
      "117 - {(9, 13), (3, 39)}\n",
      "120 - {(3, 40), (5, 24), (6, 20), (2, 60), (8, 15), (10, 12), (4, 30)}\n",
      "124 - {(2, 62), (4, 31)}\n",
      "126 - {(6, 21), (3, 42), (9, 14), (7, 18), (2, 63)}\n",
      "128 - {(4, 32), (8, 16), (2, 64)}\n",
      "130 - {(2, 65), (5, 26), (10, 13)}\n",
      "132 - {(11, 12), (3, 44), (2, 66), (4, 33), (6, 22)}\n",
      "135 - {(5, 27), (9, 15), (3, 45)}\n",
      "136 - {(4, 34), (2, 68), (8, 17)}\n",
      "138 - {(3, 46), (6, 23), (2, 69)}\n",
      "140 - {(4, 35), (7, 20), (10, 14), (2, 70), (5, 28)}\n",
      "144 - {(9, 16), (2, 72), (6, 24), (3, 48), (8, 18), (4, 36)}\n",
      "147 - {(7, 21), (3, 49)}\n",
      "148 - {(2, 74), (4, 37)}\n",
      "150 - {(10, 15), (5, 30), (6, 25), (3, 50), (2, 75)}\n",
      "152 - {(2, 76), (4, 38), (8, 19)}\n",
      "153 - {(9, 17), (3, 51)}\n",
      "154 - {(2, 77), (7, 22), (11, 14)}\n",
      "156 - {(4, 39), (2, 78), (3, 52), (12, 13), (6, 26)}\n",
      "160 - {(8, 20), (2, 80), (5, 32), (10, 16), (4, 40)}\n",
      "162 - {(9, 18), (3, 54), (6, 27), (2, 81)}\n",
      "164 - {(2, 82), (4, 41)}\n",
      "165 - {(5, 33), (11, 15), (3, 55)}\n",
      "168 - {(4, 42), (2, 84), (3, 56), (8, 21), (7, 24), (12, 14), (6, 28)}\n",
      "170 - {(10, 17), (5, 34), (2, 85)}\n",
      "171 - {(3, 57), (9, 19)}\n",
      "172 - {(4, 43), (2, 86)}\n",
      "174 - {(2, 87), (3, 58), (6, 29)}\n",
      "175 - {(7, 25), (5, 35)}\n",
      "176 - {(2, 88), (4, 44), (8, 22), (11, 16)}\n",
      "180 - {(4, 45), (6, 30), (2, 90), (5, 36), (12, 15), (3, 60), (10, 18), (9, 20)}\n",
      "182 - {(7, 26), (13, 14), (2, 91)}\n",
      "184 - {(8, 23), (4, 46), (2, 92)}\n",
      "186 - {(2, 93), (6, 31), (3, 62)}\n",
      "188 - {(2, 94), (4, 47)}\n",
      "189 - {(9, 21), (3, 63), (7, 27)}\n",
      "190 - {(5, 38), (2, 95), (10, 19)}\n",
      "192 - {(8, 24), (4, 48), (12, 16), (3, 64), (2, 96), (6, 32)}\n",
      "195 - {(13, 15), (3, 65), (5, 39)}\n",
      "196 - {(4, 49), (7, 28), (2, 98)}\n"
     ]
    }
   ],
   "source": [
    "def mult_split(n):\n",
    "    l = set()\n",
    "    for n1 in range(1, n+1):\n",
    "        if n % n1 == 0:\n",
    "            n2 = n // n1\n",
    "            if n1 != 1 and n2 != 1 and all((n2 and n1) not in tpl for tpl in l):\n",
    "                if n1 != n2:\n",
    "                    pair = (n1, n2)\n",
    "                    l.add(pair)\n",
    "    if not l: return None\n",
    "    else: return l\n",
    "\n",
    "numbersp=dict()\n",
    "\n",
    "for i in range(4,198):#max sum is 99+99\n",
    "    result = mult_split(i)\n",
    "    if result is not None and len(result)!=1:\n",
    "        print(f\"{i} - {result}\")\n",
    "        numbersp[i]=result"
   ]
  },
  {
   "cell_type": "markdown",
   "metadata": {},
   "source": [
    "    Sum: I know it;"
   ]
  },
  {
   "cell_type": "markdown",
   "metadata": {},
   "source": [
    "The sum does not consist of two simlpe numbers, and prod is not unique"
   ]
  },
  {
   "cell_type": "code",
   "execution_count": 532,
   "metadata": {},
   "outputs": [
    {
     "name": "stdout",
     "output_type": "stream",
     "text": [
      "{1, 2, 3, 5, 7, 11, 13, 17, 19, 23, 29, 31, 37, 41, 43, 47, 53, 59, 61, 67, 71, 73, 79, 83, 89, 97}\n"
     ]
    }
   ],
   "source": [
    "def is_simple(number):\n",
    "    for i in range(2, int(number**0.5) + 1):\n",
    "        if number % i == 0:\n",
    "            return False\n",
    "    return True\n",
    "s=set()\n",
    "for i in range(1,99):\n",
    "    if is_simple(i):\n",
    "        s.add(i)\n",
    "print(s)"
   ]
  },
  {
   "cell_type": "code",
   "execution_count": 533,
   "metadata": {},
   "outputs": [
    {
     "name": "stdout",
     "output_type": "stream",
     "text": [
      "[(2, 15), (3, 14), (4, 13), (5, 12), (6, 11), (7, 10), (8, 9)]\n"
     ]
    }
   ],
   "source": [
    "def split_sum(n):\n",
    "    l = []\n",
    "\n",
    "    for addend1 in range(1, n):\n",
    "        addend2 = n - addend1\n",
    "        if addend1<100 and addend2<100 and addend1>1 and addend2>1:\n",
    "            if is_simple(addend1) and is_simple(addend2):\n",
    "                return None\n",
    "            if addend1 != 1 and addend2 != 1 and all(addend1 not in tpl for tpl in l):\n",
    "                if addend1 > addend2:\n",
    "                    l.append((addend2, addend1))\n",
    "                else:\n",
    "                    l.append((addend1, addend2))\n",
    "\n",
    "    return sorted(l)\n",
    "    \n",
    "\n",
    "print(split_sum(17))"
   ]
  },
  {
   "cell_type": "markdown",
   "metadata": {},
   "source": [
    "The sums after 53 is more than half part of 100, we dont need them"
   ]
  },
  {
   "cell_type": "code",
   "execution_count": 534,
   "metadata": {},
   "outputs": [
    {
     "name": "stdout",
     "output_type": "stream",
     "text": [
      "11-[(2, 9), (3, 8), (4, 7), (5, 6)]\n",
      "17-[(2, 15), (3, 14), (4, 13), (5, 12), (6, 11), (7, 10), (8, 9)]\n",
      "23-[(2, 21), (3, 20), (4, 19), (5, 18), (6, 17), (7, 16), (8, 15), (9, 14), (10, 13), (11, 12)]\n",
      "27-[(2, 25), (3, 24), (4, 23), (5, 22), (6, 21), (7, 20), (8, 19), (9, 18), (10, 17), (11, 16), (12, 15), (13, 14)]\n",
      "29-[(2, 27), (3, 26), (4, 25), (5, 24), (6, 23), (7, 22), (8, 21), (9, 20), (10, 19), (11, 18), (12, 17), (13, 16), (14, 15)]\n",
      "35-[(2, 33), (3, 32), (4, 31), (5, 30), (6, 29), (7, 28), (8, 27), (9, 26), (10, 25), (11, 24), (12, 23), (13, 22), (14, 21), (15, 20), (16, 19), (17, 18)]\n",
      "37-[(2, 35), (3, 34), (4, 33), (5, 32), (6, 31), (7, 30), (8, 29), (9, 28), (10, 27), (11, 26), (12, 25), (13, 24), (14, 23), (15, 22), (16, 21), (17, 20), (18, 19)]\n",
      "41-[(2, 39), (3, 38), (4, 37), (5, 36), (6, 35), (7, 34), (8, 33), (9, 32), (10, 31), (11, 30), (12, 29), (13, 28), (14, 27), (15, 26), (16, 25), (17, 24), (18, 23), (19, 22), (20, 21)]\n",
      "47-[(2, 45), (3, 44), (4, 43), (5, 42), (6, 41), (7, 40), (8, 39), (9, 38), (10, 37), (11, 36), (12, 35), (13, 34), (14, 33), (15, 32), (16, 31), (17, 30), (18, 29), (19, 28), (20, 27), (21, 26), (22, 25), (23, 24)]\n",
      "51-[(2, 49), (3, 48), (4, 47), (5, 46), (6, 45), (7, 44), (8, 43), (9, 42), (10, 41), (11, 40), (12, 39), (13, 38), (14, 37), (15, 36), (16, 35), (17, 34), (18, 33), (19, 32), (20, 31), (21, 30), (22, 29), (23, 28), (24, 27), (25, 26)]\n",
      "53-[(2, 51), (3, 50), (4, 49), (5, 48), (6, 47), (7, 46), (8, 45), (9, 44), (10, 43), (11, 42), (12, 41), (13, 40), (14, 39), (15, 38), (16, 37), (17, 36), (18, 35), (19, 34), (20, 33), (21, 32), (22, 31), (23, 30), (24, 29), (25, 28), (26, 27)]\n"
     ]
    }
   ],
   "source": [
    "def findss(n):\n",
    "    ss=split_sum(n)\n",
    "    if ss is not None:\n",
    "        for s in ss:\n",
    "            if len(mult_split(s[0]*s[1]))>1:\n",
    "                return ss\n",
    "        else: return 0\n",
    "    else: return 0\n",
    "\n",
    "numbers=dict()\n",
    "\n",
    "for i in range(4,198):\n",
    "    if findss(i)!=0 and len(findss(i))>1 and i<=53:\n",
    "        print(f\"{i}-{findss(i)}\")\n",
    "        numbers[i]=findss(i)"
   ]
  },
  {
   "cell_type": "markdown",
   "metadata": {},
   "source": [
    "    Prod: then I know the numbers; "
   ]
  },
  {
   "cell_type": "markdown",
   "metadata": {},
   "source": [
    "We need to find unique pairs of splitted sum numbers for production and find unique number (because there must be only one pair of numbers if they know that numbers)"
   ]
  },
  {
   "cell_type": "code",
   "execution_count": 535,
   "metadata": {},
   "outputs": [
    {
     "data": {
      "text/plain": [
       "{11: {18, 24, 28},\n",
       " 17: {52},\n",
       " 23: {76, 112, 130},\n",
       " 27: {50, 92, 110, 140, 152, 162, 170, 176, 182},\n",
       " 29: {54, 100, 138, 154, 168, 190, 198, 204, 208},\n",
       " 35: {96, 124, 174, 216, 234, 250, 276, 294, 304, 306},\n",
       " 37: {160, 186, 232, 252, 336, 340},\n",
       " 41: {114, 148, 180, 238, 288, 310, 348, 364, 390, 400, 408, 414, 418},\n",
       " 47: {132, 172, 246, 280, 370, 442, 480, 496, 510, 522, 532, 550, 552},\n",
       " 51: {98,\n",
       "  144,\n",
       "  188,\n",
       "  230,\n",
       "  308,\n",
       "  344,\n",
       "  410,\n",
       "  440,\n",
       "  468,\n",
       "  494,\n",
       "  518,\n",
       "  560,\n",
       "  578,\n",
       "  594,\n",
       "  608,\n",
       "  620,\n",
       "  638,\n",
       "  644,\n",
       "  648,\n",
       "  650},\n",
       " 53: {102,\n",
       "  240,\n",
       "  282,\n",
       "  360,\n",
       "  430,\n",
       "  492,\n",
       "  520,\n",
       "  570,\n",
       "  592,\n",
       "  612,\n",
       "  646,\n",
       "  660,\n",
       "  672,\n",
       "  682,\n",
       "  690,\n",
       "  696,\n",
       "  700,\n",
       "  702}}"
      ]
     },
     "execution_count": 535,
     "metadata": {},
     "output_type": "execute_result"
    }
   ],
   "source": [
    "def findp(sums):\n",
    "    pp = dict()\n",
    "\n",
    "    for sumv in sums:\n",
    "        s = set()\n",
    "        for ss in split_sum(sumv):\n",
    "            s.add(ss[0]*ss[1])\n",
    "        pp[sumv] = s\n",
    "\n",
    "    for p1 in pp:\n",
    "        for p2 in pp:\n",
    "            if p1 != p2:\n",
    "                inter = pp[p1].intersection(pp[p2])\n",
    "                pp[p1] -= inter\n",
    "                pp[p2] -= inter\n",
    "\n",
    "    return pp\n",
    "\n",
    "findp(numbers.keys())\n"
   ]
  },
  {
   "cell_type": "markdown",
   "metadata": {},
   "source": [
    "    Sum: then I know the numbers too."
   ]
  },
  {
   "cell_type": "markdown",
   "metadata": {},
   "source": [
    "So the product is 52 and sum is 17\n",
    "\n",
    "<br>x+y=17\n",
    "<br>xy=52<br>\n",
    "<br>y=17-x\n",
    "<br>x(17-x)=52\n",
    "<br>17x-x^2=52<br>\n",
    "<br>x^2-17x+52=0<br>\n",
    "<br>x1=13, x2=4\n",
    "<br>y1=4, y2=13"
   ]
  }
 ],
 "metadata": {
  "kernelspec": {
   "display_name": "Python 3 (ipykernel)",
   "language": "python",
   "name": "python3"
  },
  "language_info": {
   "codemirror_mode": {
    "name": "ipython",
    "version": 3
   },
   "file_extension": ".py",
   "mimetype": "text/x-python",
   "name": "python",
   "nbconvert_exporter": "python",
   "pygments_lexer": "ipython3",
   "version": "3.12.0"
  }
 },
 "nbformat": 4,
 "nbformat_minor": 2
}
