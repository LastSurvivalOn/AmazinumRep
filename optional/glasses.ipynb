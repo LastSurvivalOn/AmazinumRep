{
 "cells": [
  {
   "cell_type": "markdown",
   "metadata": {},
   "source": [
    "<b><h2>Find the shortest way to find the number of the floor above which the glass will break</h2></b>"
   ]
  },
  {
   "cell_type": "code",
   "execution_count": 47,
   "metadata": {},
   "outputs": [],
   "source": [
    "def glass_drop(eggs, floors, temp={}):\n",
    "    if eggs == 1:\n",
    "        return floors\n",
    "    if floors == 0 or floors == 1:\n",
    "        return floors\n",
    "\n",
    "    if (eggs, floors) in temp:\n",
    "        return temp[(eggs, floors)]\n",
    "\n",
    "    min_drops = float('inf')\n",
    "    for i in range(1, floors + 1):\n",
    "        breaks = glass_drop(eggs - 1, i - 1, temp)\n",
    "        not_break = glass_drop(eggs, floors - i, temp)\n",
    "        worst_case_drops = 1 + max(breaks, not_break)\n",
    "        min_drops = min(min_drops, worst_case_drops)\n",
    "\n",
    "    temp[(eggs, floors)] = min_drops\n",
    "    return min_drops"
   ]
  },
  {
   "cell_type": "code",
   "execution_count": 48,
   "metadata": {},
   "outputs": [
    {
     "data": {
      "text/plain": [
       "14"
      ]
     },
     "execution_count": 48,
     "metadata": {},
     "output_type": "execute_result"
    }
   ],
   "source": [
    "glass_drop(2,100)"
   ]
  },
  {
   "cell_type": "code",
   "execution_count": 49,
   "metadata": {},
   "outputs": [
    {
     "data": {
      "text/plain": [
       "19"
      ]
     },
     "execution_count": 49,
     "metadata": {},
     "output_type": "execute_result"
    }
   ],
   "source": [
    "glass_drop(3,1000)"
   ]
  },
  {
   "cell_type": "code",
   "execution_count": 50,
   "metadata": {},
   "outputs": [
    {
     "data": {
      "text/plain": [
       "11"
      ]
     },
     "execution_count": 50,
     "metadata": {},
     "output_type": "execute_result"
    }
   ],
   "source": [
    "glass_drop(5,1000)"
   ]
  }
 ],
 "metadata": {
  "kernelspec": {
   "display_name": "Python 3",
   "language": "python",
   "name": "python3"
  },
  "language_info": {
   "codemirror_mode": {
    "name": "ipython",
    "version": 3
   },
   "file_extension": ".py",
   "mimetype": "text/x-python",
   "name": "python",
   "nbconvert_exporter": "python",
   "pygments_lexer": "ipython3",
   "version": "3.12.0"
  }
 },
 "nbformat": 4,
 "nbformat_minor": 2
}
