{
 "cells": [
  {
   "cell_type": "markdown",
   "metadata": {},
   "source": [
    "<font color = green>\n",
    "\n",
    "# Linear Regression: Ridge, Lasso, Normal Equation, Polynomial\n",
    "</font>"
   ]
  },
  {
   "cell_type": "markdown",
   "metadata": {},
   "source": [
    "# Home Task \n",
    "\n",
    "Use diabetes dataset (`sklearn.datasets.load_diabetes`) and apply\n",
    " - Ridge \n",
    " - Lasso\n",
    " - Polynomial\n"
   ]
  },
  {
   "cell_type": "markdown",
   "metadata": {},
   "source": [
    "<h3><b>Load data</b></h3>"
   ]
  },
  {
   "cell_type": "code",
   "execution_count": 2,
   "metadata": {},
   "outputs": [
    {
     "name": "stdout",
     "output_type": "stream",
     "text": [
      "['tested_positive' 'tested_negative'] [1 0]\n"
     ]
    }
   ],
   "source": [
    "from sklearn.datasets import fetch_openml\n",
    "from sklearn.model_selection import train_test_split\n",
    "from sklearn.preprocessing import LabelEncoder\n",
    "\n",
    "X, y_str = fetch_openml('diabetes', version=1, return_X_y=True, as_frame=False, parser='auto')\n",
    "label_encoder = LabelEncoder()\n",
    "\n",
    "y = label_encoder.fit_transform(y_str)\n",
    "X_train, X_test, y_train, y_test=train_test_split(X,y)\n",
    "\n",
    "print(y_str[:2], y[:2])"
   ]
  },
  {
   "cell_type": "markdown",
   "metadata": {},
   "source": [
    "<h3><b>Ridge</b></h3>"
   ]
  },
  {
   "cell_type": "code",
   "execution_count": 3,
   "metadata": {},
   "outputs": [
    {
     "name": "stdout",
     "output_type": "stream",
     "text": [
      "Ridge\n",
      "R2 train score = 0.32366933200954917\n",
      "R2 test score = 0.22133362334439466\n",
      "b: -0.8786789371572334, \n",
      "w= [ 0.0175309   0.00630987 -0.00295121  0.00051063 -0.00020035  0.01282302\n",
      "  0.1188085   0.0042727 ]\n"
     ]
    }
   ],
   "source": [
    "from sklearn.linear_model import Ridge\n",
    "ridge_reg=Ridge()\n",
    "ridge_reg.fit(X_train,y_train)\n",
    "regressor = ridge_reg\n",
    "print ('Ridge')\n",
    "print ('R2 train score =', regressor.score(X_train, y_train))\n",
    "print ('R2 test score =', regressor.score(X_test, y_test))\n",
    "print ('b: {}, \\nw= {}'.format(regressor.intercept_, regressor.coef_)) "
   ]
  },
  {
   "cell_type": "markdown",
   "metadata": {},
   "source": [
    "<h3><b>Lasso</b></h3>"
   ]
  },
  {
   "cell_type": "code",
   "execution_count": 4,
   "metadata": {},
   "outputs": [
    {
     "name": "stdout",
     "output_type": "stream",
     "text": [
      "Lasso\n",
      "R2 train score = 0.2357530459469137\n",
      "R2 test score = 0.1476374567391715\n",
      "b: -0.42599820263902693, \n",
      "w= [ 0.          0.00643085 -0.          0.         -0.          0.\n",
      "  0.          0.        ]\n"
     ]
    }
   ],
   "source": [
    "from sklearn.linear_model import Lasso\n",
    "lasso_reg=Lasso()\n",
    "lasso_reg.fit(X_train,y_train)\n",
    "regressor = lasso_reg\n",
    "print ('Lasso')\n",
    "print ('R2 train score =', regressor.score(X_train, y_train))\n",
    "print ('R2 test score =', regressor.score(X_test, y_test))\n",
    "print ('b: {}, \\nw= {}'.format(regressor.intercept_, regressor.coef_)) "
   ]
  },
  {
   "cell_type": "markdown",
   "metadata": {},
   "source": [
    "<h3><b>Polynomial</b></h3>"
   ]
  },
  {
   "cell_type": "markdown",
   "metadata": {},
   "source": [
    "<h4><b>Polynomial+Ridge</b></h4>"
   ]
  },
  {
   "cell_type": "code",
   "execution_count": 5,
   "metadata": {},
   "outputs": [
    {
     "name": "stdout",
     "output_type": "stream",
     "text": [
      "Polynomial + Ridge\n",
      "R2 train score = 0.37008499745042767\n",
      "R2 test score = 0.22928736115757842\n",
      "b: -0.31378430569042076, \n",
      "w= [ 1.14091036e-05  4.40100852e-05 -5.04831541e-05 -3.39959964e-05\n",
      " -1.07752672e-04 -2.27944171e-05  3.57661962e-06  3.02437384e-05\n",
      "  1.93648863e-04  3.81905839e-05 -5.67820824e-06  1.19127146e-04\n",
      " -5.98913598e-05  1.09489343e-04  2.19656001e-05  3.99974507e-06\n",
      "  4.38651988e-05 -5.62808148e-05 -2.66804805e-05 -2.07268857e-06\n",
      "  2.01467615e-05  2.95313028e-04 -3.21997283e-05  6.38686238e-06\n",
      " -2.98645464e-05  3.00942189e-06 -9.81640161e-05  2.14500299e-04\n",
      "  2.18176921e-04  6.64906981e-06  1.31927878e-05  6.70639089e-05\n",
      "  1.05643456e-04  5.27028955e-05 -8.49943182e-07 -2.19791323e-05\n",
      " -8.95282752e-05  3.13949088e-05  1.87022781e-04  9.72476237e-05\n",
      "  1.46290867e-04  9.35227076e-07  1.40887521e-04 -1.83539453e-04]\n"
     ]
    }
   ],
   "source": [
    "from sklearn.preprocessing import PolynomialFeatures\n",
    "from sklearn.linear_model import Ridge\n",
    "\n",
    "poly = PolynomialFeatures(degree=2, include_bias=False)\n",
    "X_train_poly = poly.fit_transform(X_train)\n",
    "X_test_poly = poly.transform(X_test)\n",
    "\n",
    "# Ridge regression\n",
    "poly_ridge = Ridge(alpha=1e6, max_iter=100000).fit(X_train_poly, y_train)\n",
    "\n",
    "regressor = poly_ridge\n",
    "\n",
    "print('Polynomial + Ridge')\n",
    "\n",
    "print('R2 train score =', regressor.score(X_train_poly, y_train))\n",
    "print('R2 test score =', regressor.score(X_test_poly, y_test))\n",
    "\n",
    "w = regressor.coef_\n",
    "print('b: {}, \\nw= {}'.format(regressor.intercept_, w))"
   ]
  },
  {
   "cell_type": "markdown",
   "metadata": {},
   "source": [
    "<h4><b>Polynomial+Lasso</b></h4>"
   ]
  },
  {
   "cell_type": "code",
   "execution_count": 8,
   "metadata": {},
   "outputs": [],
   "source": [
    "import numpy as np"
   ]
  },
  {
   "cell_type": "code",
   "execution_count": 9,
   "metadata": {},
   "outputs": [
    {
     "name": "stdout",
     "output_type": "stream",
     "text": [
      "X_train.shape=  (576, 8)\n",
      "X_train_poly.shape=  (576, 164)\n",
      "Polynomial + Lasso\n",
      "R2 train score = 0.4855703395685975\n",
      "R2 test score = -0.023304833476420317\n",
      "b: -0.4079685097459041, \n",
      "w= [ 0.00000000e+00 -0.00000000e+00  0.00000000e+00  0.00000000e+00\n",
      " -0.00000000e+00  0.00000000e+00  0.00000000e+00  0.00000000e+00\n",
      "  0.00000000e+00  9.88189532e-05  0.00000000e+00 -0.00000000e+00\n",
      " -0.00000000e+00  0.00000000e+00  0.00000000e+00  0.00000000e+00\n",
      "  3.74179513e-05 -4.41883973e-05 -0.00000000e+00 -4.36018201e-05\n",
      "  1.04958676e-04  0.00000000e+00  1.19891142e-04  0.00000000e+00\n",
      "  0.00000000e+00 -3.14258618e-05  0.00000000e+00  0.00000000e+00\n",
      "  0.00000000e+00  0.00000000e+00  5.62623844e-05  0.00000000e+00\n",
      "  0.00000000e+00  0.00000000e+00  5.47452796e-06  0.00000000e+00\n",
      "  0.00000000e+00 -0.00000000e+00  0.00000000e+00  0.00000000e+00\n",
      "  0.00000000e+00 -0.00000000e+00  0.00000000e+00  0.00000000e+00\n",
      " -0.00000000e+00  1.96205993e-06  9.53990866e-06  0.00000000e+00\n",
      "  2.48906477e-05 -0.00000000e+00  0.00000000e+00  0.00000000e+00\n",
      " -4.36940831e-06  8.38828339e-06 -6.93146321e-06  1.19803674e-09\n",
      " -1.85809449e-05  2.68089908e-05  2.37183609e-05  5.59225626e-06\n",
      "  2.25263517e-05 -7.33701009e-06  3.60186991e-05  0.00000000e+00\n",
      " -8.20811591e-05  0.00000000e+00 -4.42244910e-06 -5.69808108e-05\n",
      " -0.00000000e+00  6.08967821e-05  1.52135741e-06 -4.45859941e-06\n",
      " -1.01245291e-04 -0.00000000e+00  9.47133057e-06  0.00000000e+00\n",
      "  2.20168870e-05 -0.00000000e+00  0.00000000e+00  6.09510737e-06\n",
      " -1.36758694e-07 -1.07288902e-06  8.25168105e-07  2.75588608e-07\n",
      "  1.46863185e-06  2.00333608e-05  1.26894588e-06 -3.73935692e-07\n",
      " -4.56688900e-06  1.79571784e-06  3.15837200e-06 -1.63765562e-05\n",
      "  7.12255234e-06  2.73566053e-06  1.63377578e-06 -3.30192218e-06\n",
      " -7.34362982e-05  3.15817806e-06  2.06603742e-08 -4.90845559e-06\n",
      " -2.87166774e-06 -1.16840185e-06  2.56990298e-06 -7.45097331e-05\n",
      " -1.66915655e-05 -0.00000000e+00 -0.00000000e+00 -7.49606007e-06\n",
      "  2.44248208e-07  2.37034384e-06 -2.70523047e-07 -5.43228991e-06\n",
      " -0.00000000e+00  3.57488629e-06  1.55786031e-08  2.65568449e-07\n",
      "  1.05962571e-05  2.10326821e-04 -7.32139701e-06 -2.85916375e-07\n",
      " -2.17385583e-06 -1.06491871e-05  3.87152361e-07  2.63943139e-06\n",
      " -0.00000000e+00 -8.71184476e-06 -0.00000000e+00 -0.00000000e+00\n",
      " -6.08584624e-06  2.24230497e-06  2.39958737e-06 -2.32008672e-05\n",
      "  0.00000000e+00  1.24670017e-06 -4.39408109e-07 -2.92973256e-06\n",
      " -6.22831549e-06 -5.42081602e-06  7.33060388e-06  0.00000000e+00\n",
      "  8.33730010e-06 -0.00000000e+00  0.00000000e+00 -5.86727950e-06\n",
      " -3.09779204e-09  7.57649650e-07 -4.53051490e-06  1.07839278e-09\n",
      "  2.34831496e-06  1.09550945e-04  1.43362208e-05 -0.00000000e+00\n",
      " -1.13211181e-05 -1.40404844e-06  1.31477502e-06 -0.00000000e+00\n",
      " -4.30012355e-06 -0.00000000e+00  0.00000000e+00  3.30154449e-05\n",
      " -0.00000000e+00 -0.00000000e+00  2.27070044e-05  1.24085988e-06]\n",
      "\n",
      "Relevant w= []\n"
     ]
    },
    {
     "name": "stderr",
     "output_type": "stream",
     "text": [
      "c:\\Users\\admin\\AppData\\Local\\Programs\\Python\\Python312\\Lib\\site-packages\\sklearn\\linear_model\\_coordinate_descent.py:628: ConvergenceWarning: Objective did not converge. You might want to increase the number of iterations, check the scale of the features or consider increasing regularisation. Duality gap: 3.438e+01, tolerance: 1.329e-02\n",
      "  model = cd_fast.enet_coordinate_descent(\n"
     ]
    }
   ],
   "source": [
    "from sklearn.preprocessing import PolynomialFeatures\n",
    "from sklearn.linear_model import Lasso\n",
    "\n",
    "poly= PolynomialFeatures(degree=3,include_bias=False) # default is True means to return the first feature of all 1 as for degree 0 \n",
    "X_train_poly= poly.fit_transform(X_train)\n",
    "X_test_poly = poly.transform(X_test)\n",
    "print ('X_train.shape= ',X_train.shape)\n",
    "print ('X_train_poly.shape= ',X_train_poly.shape)\n",
    "\n",
    "poly_lasso = Lasso(max_iter=100000).fit (X_train_poly,y_train)\n",
    "regressor = poly_lasso\n",
    "print ('Polynomial + Lasso')\n",
    "print ('R2 train score =', regressor.score(X_train_poly, y_train))\n",
    "print ('R2 test score =', regressor.score(X_test_poly, y_test))\n",
    "\n",
    "w= regressor.coef_\n",
    "print ('b: {}, \\nw= {}'.format(regressor.intercept_, w)) \n",
    "w_relevant= w[np.abs(w) > 1e-2]\n",
    "print ('\\nRelevant w= {}'.format(w_relevant)) "
   ]
  },
  {
   "cell_type": "markdown",
   "metadata": {},
   "source": [
    "<h3><b>Normal Equation</b></h3>"
   ]
  },
  {
   "cell_type": "code",
   "execution_count": 10,
   "metadata": {},
   "outputs": [
    {
     "name": "stdout",
     "output_type": "stream",
     "text": [
      "Solving linear regression using normal equation...\n",
      "b: -0.8789309461372556, \n",
      "w= [[ 0.01754806  0.00630829 -0.00295024  0.00050552 -0.00020089  0.01281271\n",
      "   0.12073798  0.0042686 ]]\n",
      "Predicting using normal equation...\n",
      "R2 train score = 0.3236710580729645\n",
      "R2 test score = 0.22152856783340935\n"
     ]
    }
   ],
   "source": [
    "m,n = X_train.shape\n",
    "# adding 1-column\n",
    "X_train_ext =  np.c_[(np.ones((m,1)),X_train)]\n",
    "assert (X_train_ext.shape== (m,n+1))\n",
    "\n",
    "print ('Solving linear regression using normal equation...')\n",
    "\n",
    "params = np.linalg.pinv (X_train_ext.T @ X_train_ext ) @ X_train_ext.T @ y_train\n",
    "\n",
    "\n",
    "params = np.linalg.pinv (X_train_ext.T @ X_train_ext ) @ X_train_ext.T @ y_train\n",
    "b = params[0]\n",
    "w=params[1:].reshape (1,-1) \n",
    "print ('b: {}, \\nw= {}'.format(b,w)) \n",
    "\n",
    "print ('Predicting using normal equation...')\n",
    "\n",
    "z_train= b+ X_train @ w.T\n",
    "z_test= b+ X_test @ w.T\n",
    "\n",
    "from sklearn.metrics import r2_score\n",
    "print ('R2 train score =',  r2_score(y_train,z_train))\n",
    "print ('R2 test score =', r2_score(y_test,z_test))"
   ]
  }
 ],
 "metadata": {
  "kernelspec": {
   "display_name": "Python 3 (ipykernel)",
   "language": "python",
   "name": "python3"
  },
  "language_info": {
   "codemirror_mode": {
    "name": "ipython",
    "version": 3
   },
   "file_extension": ".py",
   "mimetype": "text/x-python",
   "name": "python",
   "nbconvert_exporter": "python",
   "pygments_lexer": "ipython3",
   "version": "3.12.0"
  }
 },
 "nbformat": 4,
 "nbformat_minor": 2
}
